{
 "cells": [
  {
   "cell_type": "markdown",
   "metadata": {},
   "source": [
    "# Introduction to Open AI Gym \n",
    "[OpenAI Gym](https://gym.openai.com/) aims to provide an easy-to-setup general-intelligence benchmark with a wide variety of different environments. The goal is to standardize how environments are defined in AI research publications so that published research becomes more easily reproducible. The project claims to provide the user with a simple interface. \n",
    "\n",
    "### Looking at Gym Environments\n",
    "\n",
    "The centerpiece of Gym is the environment, which defines the \"game\" in which your reinforcement algorithm will compete.  An environment does not need to be a game; however, it describes the following game-like features:\n",
    "* **action space**: What actions can we take on the environment, at each step/episode, to alter the environment.\n",
    "* **observation space**: What is the current state of the portion of the environment that we can observe. Usually, we can see the entire environment.\n",
    "\n",
    "Before we begin to look at Gym, it is essential to understand some of the terminology used by this library.\n",
    "\n",
    "* **Agent** - The machine learning program or model that controls the actions.\n",
    "Step - One round of issuing actions that affect the observation space.\n",
    "* **Episode** - A collection of steps that terminates when the agent fails to meet the environment's objective, or the episode reaches the maximum number of allowed steps.\n",
    "* **Render** - Gym can render one frame for display after each episode.\n",
    "* **Reward** - A positive reinforcement that can occur at the end of each episode, after the agent acts.\n",
    "* **Nondeterministic** - For some environments, randomness is a factor in deciding what effects actions have on reward and changes to the observation space.\n",
    "\n",
    "It is important to note that many of the gym environments specify that they are not nondeterministic even though they make use of random numbers to process actions. It is generally agreed upon (based on the gym GitHub issue tracker) that nondeterministic property means that a deterministic environment will still behave randomly even when given consistent seed value. The seed method of an environment can be used by the program to seed the random number generator for the environment.\n",
    "\n",
    "Altough Google Colab does not allow us to render each environment, you can take a look at the environment at [OpenAI Gym Environments](https://gym.openai.com/envs/#classic_control)\n",
    "\n",
    "The Gym library allows us to query some of these attributes from environments. We will begin by looking at the FrozenLake-v0 environment. The RL agent will control the movement of a character in a grid world. Some tiles of the grid are walkable, and others lead to the agent falling into the water. Additionally, the movement direction of the agent is uncertain and only partially depends on the chosen direction. The agent is rewarded for finding a walkable path to a goal tile."
   ]
  },
  {
   "cell_type": "code",
   "execution_count": 1,
   "metadata": {},
   "outputs": [
    {
     "name": "stdout",
     "output_type": "stream",
     "text": [
      "Action Space: Discrete(4)\n",
      "Observation Space: Discrete(16)\n",
      "Max Episode Steps: 100\n",
      "Nondeterministic: False\n",
      "Reward Range: (0, 1)\n",
      "Reward Threshold: 0.7\n"
     ]
    }
   ],
   "source": [
    "import gym\n",
    "import time\n",
    "import numpy\n",
    "import matplotlib.pyplot as plt\n",
    "\n",
    "def query_environment(name):\n",
    "  env = gym.make(name)\n",
    "  spec = gym.spec(name)\n",
    "  print(f\"Action Space: {env.action_space}\")\n",
    "  print(f\"Observation Space: {env.observation_space}\")\n",
    "  print(f\"Max Episode Steps: {spec.max_episode_steps}\")\n",
    "  print(f\"Nondeterministic: {spec.nondeterministic}\")\n",
    "  print(f\"Reward Range: {env.reward_range}\")\n",
    "  print(f\"Reward Threshold: {spec.reward_threshold}\")\n",
    "\n",
    "query_environment(\"FrozenLake-v1\")"
   ]
  },
  {
   "cell_type": "markdown",
   "metadata": {},
   "source": [
    "The agent moves through a $4 \\times 4$ gridworld, with states numbered as follows:\n",
    "```\n",
    "[[ 0  1  2  3]\n",
    " [ 4  5  6  7]\n",
    " [ 8  9 10 11]\n",
    " [12 13 14 15]]\n",
    "```\n",
    "Each state can be categorized into the following states\n",
    "```\n",
    "SFFF       (S: starting point, safe)\n",
    "FHFH       (F: frozen surface, safe)\n",
    "FFFH       (H: hole, fall to your doom)\n",
    "HFFG       (G: goal, where the frisbee is located)\n",
    "```\n",
    "The agent has 4 potential actions:\n",
    "```\n",
    "LEFT = 0\n",
    "DOWN = 1\n",
    "RIGHT = 2\n",
    "UP = 3\n",
    "```\n",
    "\n",
    "Thus, $\\mathcal{S}^+ = \\{0, 1, \\ldots, 15\\}$, and $\\mathcal{A} = \\{0, 1, 2, 3\\}$.  "
   ]
  },
  {
   "cell_type": "markdown",
   "metadata": {},
   "source": [
    "# Value Iteration\n",
    "\n",
    "Now we are going to instance a Fronzen lake environment, and try to implement Value itertaions. \n",
    "\n",
    "**You need to implement the code at where is labeled ``TODO:''**"
   ]
  },
  {
   "cell_type": "code",
   "execution_count": 2,
   "metadata": {},
   "outputs": [],
   "source": [
    "def valueIteration(env, gamma=1.0, iteration=10000, eps=1e-20):\n",
    "    value = numpy.zeros(env.nS)\n",
    "\n",
    "    # Start Iteration\n",
    "    for i in range(iteration):\n",
    "        previous_value = numpy.copy(value)\n",
    "        for state in range(env.nS):\n",
    "            Q = []\n",
    "            for action in range(env.nA):\n",
    "                outcomes  = []\n",
    "\n",
    "                # TODO: Loop through all outcomes of performing that action and calculate the Q values\n",
    "                for probability, nextstate, reward, done in env.P[state][action]:\n",
    "                    outcomes.append(probability * (reward + gamma * (value[nextstate])))\n",
    "\n",
    "                Q.append(sum(outcomes))\n",
    "\n",
    "            # TODO: Calculate the value function\n",
    "            value[state] = max(Q)\n",
    "\n",
    "        if(numpy.sum(numpy.fabs(previous_value - value)) <= eps):\n",
    "            return value\n",
    "\n",
    "    print(\"Iterated over %d Iterations and couldn't converge\"%(iteration))\n",
    "    return value"
   ]
  },
  {
   "cell_type": "code",
   "execution_count": 3,
   "metadata": {},
   "outputs": [],
   "source": [
    "def calculatePolicy(env, v, gamma=1.0):\n",
    "    policy = numpy.zeros(env.nS)\n",
    "    for state in range(env.nS):\n",
    "        Q = [] \n",
    "        for action in range(env.nA):\n",
    "\n",
    "            # Reset all outcomes of this particular action\n",
    "                outcomes  = []\n",
    "\n",
    "                # TODO: Loop through all outcomes of performing that action and calculate the Q values\n",
    "                for probability, nextstate, reward, done in env.P[state][action]:\n",
    "                    outcomes.append(probability * (reward + gamma * (v[nextstate])))\n",
    "\n",
    "                Q.append(sum(outcomes))\n",
    "\n",
    "        # TODO: extract policy \n",
    "        policy[state] = Q.index(max(Q))\n",
    "\n",
    "    # Step 9: Return policy\n",
    "    return policy"
   ]
  },
  {
   "cell_type": "code",
   "execution_count": 15,
   "metadata": {},
   "outputs": [],
   "source": [
    "def evaluatePolicyOnce(env, policy, gamma=1.0, eps=1e-20):\n",
    "    totalreward = 0\n",
    "    step = 0\n",
    "    start = env.reset()\n",
    "\n",
    "    while True:\n",
    "        action = policy[start]\n",
    "\n",
    "        start, reward, done, _ = env.step(action)\n",
    "\n",
    "        # TODO: Calculate the total reward with the given discount factor\n",
    "        totalreward += reward * (gamma ** (step-1))\n",
    "        step += 1\n",
    "\n",
    "        if done:\n",
    "            break\n",
    "    return totalreward\n",
    "\n",
    "def evaluatePolicy(env, policy, gamma=1.0, iteration=100, render=False, eps=1e-20):\n",
    "    scores = [\n",
    "    evaluatePolicyOnce(env, policy, gamma, eps)\n",
    "        for _ in range(iteration)\n",
    "    ]\n",
    "\n",
    "    return numpy.mean(scores)"
   ]
  },
  {
   "cell_type": "code",
   "execution_count": 16,
   "metadata": {},
   "outputs": [],
   "source": [
    "def ValueIterator(env, gamma=1.0, improvementIterations=1000, evaluationIterations=100, eps=1e-20):\n",
    "    optimalValue = valueIteration(env, gamma, improvementIterations, eps)\n",
    "    policy = calculatePolicy(env, optimalValue, gamma)\n",
    "    score = evaluatePolicy(env, policy, gamma, evaluationIterations, eps)\n",
    "    print('Score obtained', score)\n",
    "    print('Best score = %0.2f.'%(numpy.max(score)))"
   ]
  },
  {
   "cell_type": "code",
   "execution_count": 17,
   "metadata": {},
   "outputs": [
    {
     "name": "stdout",
     "output_type": "stream",
     "text": [
      "Score obtained 0.83\n",
      "Best score = 0.83.\n"
     ]
    }
   ],
   "source": [
    "gamma = 1.0\n",
    "game = 'FrozenLake-v1'\n",
    "improvementIterations = 10000\n",
    "evaluationIterations = 100\n",
    "eps = 1e-20\n",
    "numpy.random.seed(0)\n",
    "env = gym.make(game)\n",
    "env.seed(0)\n",
    "\n",
    "env = gym.make(game).env\n",
    "ValueIterator(env=env, gamma=gamma, evaluationIterations=evaluationIterations, improvementIterations=improvementIterations, eps=eps)"
   ]
  },
  {
   "cell_type": "markdown",
   "metadata": {},
   "source": [
    "We also provide the following code to visualize your calculated value function."
   ]
  },
  {
   "cell_type": "code",
   "execution_count": 7,
   "metadata": {},
   "outputs": [
    {
     "data": {
      "image/png": "[encoded data removed]",
      "text/plain": [
       "<Figure size 432x432 with 1 Axes>"
      ]
     },
     "metadata": {},
     "output_type": "display_data"
    }
   ],
   "source": [
    "def plot_values(V):\n",
    "    # reshape value function\n",
    "    V_sq = numpy.reshape(V, (4,4))\n",
    "\n",
    "    # plot the state-value function\n",
    "    fig = plt.figure(figsize=(6, 6))\n",
    "    ax = fig.add_subplot(111)\n",
    "    im = ax.imshow(V_sq, cmap='cool')\n",
    "    for (j,i),label in numpy.ndenumerate(V_sq):\n",
    "        ax.text(i, j, numpy.round(label, 5), ha='center', va='center', fontsize=14)\n",
    "    plt.tick_params(bottom=False, left=False, labelbottom=False, labelleft=False)\n",
    "    plt.title('State-Value Function')\n",
    "    plt.show()\n",
    "\n",
    "optimalValue = valueIteration(env, gamma, improvementIterations, eps)\n",
    "plot_values(optimalValue)"
   ]
  },
  {
   "cell_type": "markdown",
   "metadata": {},
   "source": [
    "# Policy Iteration\n",
    "\n",
    "With the Frozen Lake environment, we are also going to try out the policy iteration method. \n",
    "\n",
    "**Again, please implement the code labeled #TODO**"
   ]
  },
  {
   "cell_type": "code",
   "execution_count": 8,
   "metadata": {},
   "outputs": [],
   "source": [
    "\"\"\"Given a policy, extract its corresponding value function\"\"\"\n",
    "def get_value_function(env, policy, gamma, eps=1e-20):\n",
    "\n",
    "    value = numpy.zeros(env.nS)\n",
    "\n",
    "    while True:\n",
    "        previous_value = numpy.copy(value)\n",
    "        for state in range(policy.size):\n",
    "            outcomes  = []\n",
    "\n",
    "            # TODO: Extract the action from policy\n",
    "            action = policy[state]\n",
    "\n",
    "            for probability, next_state, reward, is_done in env.P[state][action]:\n",
    "                # TODO: Get all outcomes of that action\n",
    "                outcomes.append(probability * (reward + gamma * value[next_state]))\n",
    "\n",
    "            # TODO: Extract the value function\n",
    "            value[state] = sum(outcomes)\n",
    "\n",
    "        if numpy.sum(numpy.fabs(previous_value - value)) <= eps:\n",
    "            return value\n",
    "\n",
    "    return value"
   ]
  },
  {
   "cell_type": "code",
   "execution_count": 9,
   "metadata": {},
   "outputs": [],
   "source": [
    "def policyIteration(env, gamma=1.0, improvementIterations=1000, eps=1e-20):\n",
    "\n",
    "    # Declare a random policy\n",
    "    policy = numpy.random.choice(env.nA, size=(env.nS))\n",
    "\n",
    "    for i in range(improvementIterations):\n",
    "\n",
    "        # TODO: calculate the value function with the previous policy, \n",
    "        #  then use this value function to iterate for an improved pocliy \n",
    "        #  Hint: you've already implemented how to use a value function \n",
    "        #  to calculate a policy in calculatePolicy\n",
    "        newPolicy = numpy.zeros(env.nS)\n",
    "        value = get_value_function(env, policy, gamma, eps)\n",
    "        for state in range(env.nS):\n",
    "            Q = []\n",
    "            for action in range(env.nA):\n",
    "                outcomes = []\n",
    "                for probability, next_state, reward, _ in env.P[state][action]:\n",
    "                    outcomes.append(probability * (reward + gamma * value[next_state]))\n",
    "                Q.append(sum(outcomes))\n",
    "            newPolicy[state] = Q.index(max(Q))\n",
    "\n",
    "        # If converged\n",
    "        if(numpy.all(policy == newPolicy)):\n",
    "            return policy\n",
    "        policy = newPolicy\n",
    "\n",
    "    print(\"Iterated over %d Iterations and couldn't converge\"%(improvementIterations))\n",
    "    return policy"
   ]
  },
  {
   "cell_type": "code",
   "execution_count": 10,
   "metadata": {},
   "outputs": [],
   "source": [
    "gamma = 1.0\n",
    "improvementIterations = 10000\n",
    "evaluationIterations = 100\n",
    "eps = 1e-20\n",
    "numpy.random.seed(0)\n",
    "env = gym.make(game)\n",
    "env.seed(0)\n",
    "\n",
    "def PolicyIterator(env, gamma=1.0, improvementIterations=1000, eps=1e-20, evaluationIterations=100):\n",
    "    optimalPolicy = policyIteration(env=env, gamma=gamma, improvementIterations=improvementIterations, eps=eps)\n",
    "    startTime = time.time()\n",
    "    policy_score = evaluatePolicy(env, policy=optimalPolicy, gamma=gamma, iteration=evaluationIterations, render=False, eps=eps)\n",
    "    endTime = time.time()\n",
    "    print('Best score = %0.2f. Time taken = %4.4f seconds'%(numpy.max(policy_score), endTime - startTime))"
   ]
  },
  {
   "cell_type": "markdown",
   "metadata": {},
   "source": [
    "We can also visualize the value function with respect to the policy."
   ]
  },
  {
   "cell_type": "code",
   "execution_count": 18,
   "metadata": {},
   "outputs": [
    {
     "name": "stdout",
     "output_type": "stream",
     "text": [
      "Best score = 0.82. Time taken = 0.0379 seconds\n"
     ]
    },
    {
     "data": {
      "image/png": "[encoded data removed]",
      "text/plain": [
       "<Figure size 432x432 with 1 Axes>"
      ]
     },
     "metadata": {},
     "output_type": "display_data"
    }
   ],
   "source": [
    "PolicyIterator(env, gamma=1, improvementIterations=10000, eps=1e-20, evaluationIterations=100)\n",
    "\n",
    "optimalPolicy = policyIteration(env=env, gamma=gamma, improvementIterations=improvementIterations, eps=eps)\n",
    "PolicyValue = get_value_function(env=env, policy=optimalPolicy, gamma=gamma, eps=eps)\n",
    "\n",
    "plot_values(PolicyValue)"
   ]
  },
  {
   "cell_type": "markdown",
   "metadata": {},
   "source": [
    "#Comparing the value and policy iteration methods.\n",
    "\n",
    "Lastly, please try to play around with the FrozenLake environment with different configurations (gamma, improvement/evaluation iterations, random seed)and with value and policy iteration. Please try your best to get a policy with score as high as possible (though your grades will not be affected by this score). Repeat each experiment with 5 different random seed, then report the highest score you've achieved across the 5 repeats with 1 standard deviation and write (a few sentence) to compare the two iteration methods."
   ]
  }
 ],
 "metadata": {
  "interpreter": {
   "hash": "61dd0e9fca73d993dce8fd26eb066813c398e8547ba5df7c5876aeaa35e9886b"
  },
  "kernelspec": {
   "display_name": "Python 3.8.8 ('base')",
   "language": "python",
   "name": "python3"
  },
  "language_info": {
   "codemirror_mode": {
    "name": "ipython",
    "version": 3
   },
   "file_extension": ".py",
   "mimetype": "text/x-python",
   "name": "python",
   "nbconvert_exporter": "python",
   "pygments_lexer": "ipython3",
   "version": "3.8.8"
  },
  "orig_nbformat": 4
 },
 "nbformat": 4,
 "nbformat_minor": 2
}
